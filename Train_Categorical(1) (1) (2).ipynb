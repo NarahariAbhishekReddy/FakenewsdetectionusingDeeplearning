{
 "cells": [
  {
   "cell_type": "code",
   "execution_count": 6,
   "metadata": {
    "colab": {
     "base_uri": "https://localhost:8080/"
    },
    "id": "RZPgJIeHd7Ki",
    "outputId": "0db7645b-19ec-4402-e168-3da9e2a8f51b"
   },
   "outputs": [
    {
     "name": "stdout",
     "output_type": "stream",
     "text": [
      "Requirement already satisfied: talos in c:\\python\\lib\\site-packages (1.0.2)\n",
      "Requirement already satisfied: numpy in c:\\python\\lib\\site-packages (from talos) (1.21.2)\n",
      "Requirement already satisfied: tqdm in c:\\python\\lib\\site-packages (from talos) (4.63.0)\n",
      "Requirement already satisfied: wrangle in c:\\python\\lib\\site-packages (from talos) (0.6.11)\n",
      "Requirement already satisfied: statsmodels>=0.11.0 in c:\\python\\lib\\site-packages (from talos) (0.13.2)\n",
      "Requirement already satisfied: tensorflow>=2.0.0 in c:\\python\\lib\\site-packages (from talos) (2.8.0)\n",
      "Requirement already satisfied: sklearn in c:\\python\\lib\\site-packages (from talos) (0.0)\n",
      "Requirement already satisfied: pandas in c:\\python\\lib\\site-packages (from talos) (1.4.0)\n",
      "Requirement already satisfied: requests in c:\\python\\lib\\site-packages (from talos) (2.26.0)\n",
      "Requirement already satisfied: kerasplotlib in c:\\python\\lib\\site-packages (from talos) (0.2.1)\n",
      "Requirement already satisfied: astetik in c:\\python\\lib\\site-packages (from talos) (1.11.1)\n",
      "Requirement already satisfied: chances in c:\\python\\lib\\site-packages (from talos) (0.1.9)\n",
      "Requirement already satisfied: patsy>=0.5.2 in c:\\python\\lib\\site-packages (from statsmodels>=0.11.0->talos) (0.5.2)\n",
      "Requirement already satisfied: scipy>=1.3 in c:\\python\\lib\\site-packages (from statsmodels>=0.11.0->talos) (1.8.0)\n",
      "Requirement already satisfied: packaging>=21.3 in c:\\python\\lib\\site-packages (from statsmodels>=0.11.0->talos) (21.3)\n",
      "Requirement already satisfied: pytz>=2020.1 in c:\\python\\lib\\site-packages (from pandas->talos) (2021.1)\n",
      "Requirement already satisfied: python-dateutil>=2.8.1 in c:\\python\\lib\\site-packages (from pandas->talos) (2.8.2)\n",
      "Requirement already satisfied: tf-estimator-nightly==2.8.0.dev2021122109 in c:\\python\\lib\\site-packages (from tensorflow>=2.0.0->talos) (2.8.0.dev2021122109)\n",
      "Requirement already satisfied: h5py>=2.9.0 in c:\\python\\lib\\site-packages (from tensorflow>=2.0.0->talos) (3.6.0)\n",
      "Requirement already satisfied: keras-preprocessing>=1.1.1 in c:\\python\\lib\\site-packages (from tensorflow>=2.0.0->talos) (1.1.2)\n",
      "Requirement already satisfied: tensorflow-io-gcs-filesystem>=0.23.1 in c:\\python\\lib\\site-packages (from tensorflow>=2.0.0->talos) (0.24.0)\n",
      "Requirement already satisfied: absl-py>=0.4.0 in c:\\python\\lib\\site-packages (from tensorflow>=2.0.0->talos) (1.0.0)\n",
      "Requirement already satisfied: protobuf>=3.9.2 in c:\\python\\lib\\site-packages (from tensorflow>=2.0.0->talos) (3.19.4)\n",
      "Requirement already satisfied: typing-extensions>=3.6.6 in c:\\python\\lib\\site-packages (from tensorflow>=2.0.0->talos) (4.1.1)\n",
      "Requirement already satisfied: google-pasta>=0.1.1 in c:\\python\\lib\\site-packages (from tensorflow>=2.0.0->talos) (0.2.0)\n",
      "Requirement already satisfied: flatbuffers>=1.12 in c:\\python\\lib\\site-packages (from tensorflow>=2.0.0->talos) (2.0)\n",
      "Requirement already satisfied: astunparse>=1.6.0 in c:\\python\\lib\\site-packages (from tensorflow>=2.0.0->talos) (1.6.3)\n",
      "Requirement already satisfied: gast>=0.2.1 in c:\\python\\lib\\site-packages (from tensorflow>=2.0.0->talos) (0.5.3)\n",
      "Requirement already satisfied: keras<2.9,>=2.8.0rc0 in c:\\python\\lib\\site-packages (from tensorflow>=2.0.0->talos) (2.8.0)\n",
      "Requirement already satisfied: wrapt>=1.11.0 in c:\\python\\lib\\site-packages (from tensorflow>=2.0.0->talos) (1.13.3)\n",
      "Requirement already satisfied: six>=1.12.0 in c:\\python\\lib\\site-packages (from tensorflow>=2.0.0->talos) (1.16.0)\n",
      "Requirement already satisfied: opt-einsum>=2.3.2 in c:\\python\\lib\\site-packages (from tensorflow>=2.0.0->talos) (3.3.0)\n",
      "Requirement already satisfied: grpcio<2.0,>=1.24.3 in c:\\python\\lib\\site-packages (from tensorflow>=2.0.0->talos) (1.44.0)\n",
      "Requirement already satisfied: libclang>=9.0.1 in c:\\python\\lib\\site-packages (from tensorflow>=2.0.0->talos) (13.0.0)\n",
      "Requirement already satisfied: termcolor>=1.1.0 in c:\\python\\lib\\site-packages (from tensorflow>=2.0.0->talos) (1.1.0)\n",
      "Requirement already satisfied: setuptools in c:\\python\\lib\\site-packages (from tensorflow>=2.0.0->talos) (57.4.0)\n",
      "Requirement already satisfied: tensorboard<2.9,>=2.8 in c:\\python\\lib\\site-packages (from tensorflow>=2.0.0->talos) (2.8.0)\n",
      "Requirement already satisfied: seaborn in c:\\python\\lib\\site-packages (from astetik->talos) (0.11.2)\n",
      "Requirement already satisfied: IPython in c:\\python\\lib\\site-packages (from astetik->talos) (7.27.0)\n",
      "Requirement already satisfied: geonamescache in c:\\python\\lib\\site-packages (from astetik->talos) (1.3.0)\n",
      "Requirement already satisfied: matplotlib in c:\\python\\lib\\site-packages (from kerasplotlib->talos) (3.4.3)\n",
      "Requirement already satisfied: idna<4,>=2.5 in c:\\python\\lib\\site-packages (from requests->talos) (3.2)\n",
      "Requirement already satisfied: charset-normalizer~=2.0.0 in c:\\python\\lib\\site-packages (from requests->talos) (2.0.5)\n",
      "Requirement already satisfied: urllib3<1.27,>=1.21.1 in c:\\python\\lib\\site-packages (from requests->talos) (1.26.6)\n",
      "Requirement already satisfied: certifi>=2017.4.17 in c:\\python\\lib\\site-packages (from requests->talos) (2021.5.30)\n",
      "Requirement already satisfied: scikit-learn in c:\\python\\lib\\site-packages (from sklearn->talos) (1.0.2)\n",
      "Requirement already satisfied: colorama in c:\\python\\lib\\site-packages (from tqdm->talos) (0.4.4)\n",
      "Requirement already satisfied: wheel<1.0,>=0.23.0 in c:\\python\\lib\\site-packages (from astunparse>=1.6.0->tensorflow>=2.0.0->talos) (0.37.1)\n",
      "Requirement already satisfied: pyparsing!=3.0.5,>=2.0.2 in c:\\python\\lib\\site-packages (from packaging>=21.3->statsmodels>=0.11.0->talos) (2.4.7)\n",
      "Requirement already satisfied: tensorboard-data-server<0.7.0,>=0.6.0 in c:\\python\\lib\\site-packages (from tensorboard<2.9,>=2.8->tensorflow>=2.0.0->talos) (0.6.1)\n",
      "Requirement already satisfied: markdown>=2.6.8 in c:\\python\\lib\\site-packages (from tensorboard<2.9,>=2.8->tensorflow>=2.0.0->talos) (3.3.6)\n",
      "Requirement already satisfied: google-auth-oauthlib<0.5,>=0.4.1 in c:\\python\\lib\\site-packages (from tensorboard<2.9,>=2.8->tensorflow>=2.0.0->talos) (0.4.6)\n",
      "Requirement already satisfied: werkzeug>=0.11.15 in c:\\python\\lib\\site-packages (from tensorboard<2.9,>=2.8->tensorflow>=2.0.0->talos) (2.0.3)\n",
      "Requirement already satisfied: tensorboard-plugin-wit>=1.6.0 in c:\\python\\lib\\site-packages (from tensorboard<2.9,>=2.8->tensorflow>=2.0.0->talos) (1.8.1)\n",
      "Requirement already satisfied: google-auth<3,>=1.6.3 in c:\\python\\lib\\site-packages (from tensorboard<2.9,>=2.8->tensorflow>=2.0.0->talos) (2.6.0)\n",
      "Requirement already satisfied: pickleshare in c:\\python\\lib\\site-packages (from IPython->astetik->talos) (0.7.5)\n",
      "Requirement already satisfied: backcall in c:\\python\\lib\\site-packages (from IPython->astetik->talos) (0.2.0)\n",
      "Requirement already satisfied: jedi>=0.16 in c:\\python\\lib\\site-packages (from IPython->astetik->talos) (0.18.0)\n",
      "Requirement already satisfied: decorator in c:\\python\\lib\\site-packages (from IPython->astetik->talos) (5.1.0)\n",
      "Requirement already satisfied: prompt-toolkit!=3.0.0,!=3.0.1,<3.1.0,>=2.0.0 in c:\\python\\lib\\site-packages (from IPython->astetik->talos) (3.0.20)\n",
      "Requirement already satisfied: pygments in c:\\python\\lib\\site-packages (from IPython->astetik->talos) (2.10.0)\n",
      "Requirement already satisfied: matplotlib-inline in c:\\python\\lib\\site-packages (from IPython->astetik->talos) (0.1.3)\n",
      "Requirement already satisfied: traitlets>=4.2 in c:\\python\\lib\\site-packages (from IPython->astetik->talos) (5.1.0)\n",
      "Requirement already satisfied: pillow>=6.2.0 in c:\\python\\lib\\site-packages (from matplotlib->kerasplotlib->talos) (8.3.2)\n",
      "Requirement already satisfied: kiwisolver>=1.0.1 in c:\\python\\lib\\site-packages (from matplotlib->kerasplotlib->talos) (1.3.2)\n",
      "Requirement already satisfied: cycler>=0.10 in c:\\python\\lib\\site-packages (from matplotlib->kerasplotlib->talos) (0.10.0)\n",
      "Requirement already satisfied: threadpoolctl>=2.0.0 in c:\\python\\lib\\site-packages (from scikit-learn->sklearn->talos) (3.1.0)\n",
      "Requirement already satisfied: joblib>=0.11 in c:\\python\\lib\\site-packages (from scikit-learn->sklearn->talos) (1.1.0)\n",
      "Requirement already satisfied: rsa<5,>=3.1.4 in c:\\python\\lib\\site-packages (from google-auth<3,>=1.6.3->tensorboard<2.9,>=2.8->tensorflow>=2.0.0->talos) (4.8)\n",
      "Requirement already satisfied: cachetools<6.0,>=2.0.0 in c:\\python\\lib\\site-packages (from google-auth<3,>=1.6.3->tensorboard<2.9,>=2.8->tensorflow>=2.0.0->talos) (5.0.0)\n",
      "Requirement already satisfied: pyasn1-modules>=0.2.1 in c:\\python\\lib\\site-packages (from google-auth<3,>=1.6.3->tensorboard<2.9,>=2.8->tensorflow>=2.0.0->talos) (0.2.8)\n",
      "Requirement already satisfied: requests-oauthlib>=0.7.0 in c:\\python\\lib\\site-packages (from google-auth-oauthlib<0.5,>=0.4.1->tensorboard<2.9,>=2.8->tensorflow>=2.0.0->talos) (1.3.1)\n",
      "Requirement already satisfied: parso<0.9.0,>=0.8.0 in c:\\python\\lib\\site-packages (from jedi>=0.16->IPython->astetik->talos) (0.8.2)\n",
      "Requirement already satisfied: importlib-metadata>=4.4 in c:\\python\\lib\\site-packages (from markdown>=2.6.8->tensorboard<2.9,>=2.8->tensorflow>=2.0.0->talos) (4.11.1)\n",
      "Requirement already satisfied: wcwidth in c:\\python\\lib\\site-packages (from prompt-toolkit!=3.0.0,!=3.0.1,<3.1.0,>=2.0.0->IPython->astetik->talos) (0.2.5)\n",
      "Requirement already satisfied: zipp>=0.5 in c:\\python\\lib\\site-packages (from importlib-metadata>=4.4->markdown>=2.6.8->tensorboard<2.9,>=2.8->tensorflow>=2.0.0->talos) (3.7.0)\n",
      "Requirement already satisfied: pyasn1<0.5.0,>=0.4.6 in c:\\python\\lib\\site-packages (from pyasn1-modules>=0.2.1->google-auth<3,>=1.6.3->tensorboard<2.9,>=2.8->tensorflow>=2.0.0->talos) (0.4.8)\n",
      "Requirement already satisfied: oauthlib>=3.0.0 in c:\\python\\lib\\site-packages (from requests-oauthlib>=0.7.0->google-auth-oauthlib<0.5,>=0.4.1->tensorboard<2.9,>=2.8->tensorflow>=2.0.0->talos) (3.2.0)\n",
      "Requirement already satisfied: statsmodels in c:\\python\\lib\\site-packages (0.13.2)\n",
      "Requirement already satisfied: packaging>=21.3 in c:\\python\\lib\\site-packages (from statsmodels) (21.3)\n",
      "Requirement already satisfied: scipy>=1.3 in c:\\python\\lib\\site-packages (from statsmodels) (1.8.0)\n",
      "Requirement already satisfied: patsy>=0.5.2 in c:\\python\\lib\\site-packages (from statsmodels) (0.5.2)\n",
      "Requirement already satisfied: pandas>=0.25 in c:\\python\\lib\\site-packages (from statsmodels) (1.4.0)\n",
      "Requirement already satisfied: numpy>=1.17 in c:\\python\\lib\\site-packages (from statsmodels) (1.21.2)\n",
      "Requirement already satisfied: pyparsing!=3.0.5,>=2.0.2 in c:\\python\\lib\\site-packages (from packaging>=21.3->statsmodels) (2.4.7)\n",
      "Requirement already satisfied: python-dateutil>=2.8.1 in c:\\python\\lib\\site-packages (from pandas>=0.25->statsmodels) (2.8.2)\n",
      "Requirement already satisfied: pytz>=2020.1 in c:\\python\\lib\\site-packages (from pandas>=0.25->statsmodels) (2021.1)\n",
      "Requirement already satisfied: six in c:\\python\\lib\\site-packages (from patsy>=0.5.2->statsmodels) (1.16.0)\n",
      "Requirement already satisfied: pytest in c:\\python\\lib\\site-packages (7.1.2)\n",
      "Requirement already satisfied: colorama in c:\\python\\lib\\site-packages (from pytest) (0.4.4)\n",
      "Requirement already satisfied: iniconfig in c:\\python\\lib\\site-packages (from pytest) (1.1.1)\n",
      "Requirement already satisfied: py>=1.8.2 in c:\\python\\lib\\site-packages (from pytest) (1.11.0)\n",
      "Requirement already satisfied: atomicwrites>=1.0 in c:\\python\\lib\\site-packages (from pytest) (1.4.0)\n",
      "Requirement already satisfied: packaging in c:\\python\\lib\\site-packages (from pytest) (21.3)\n",
      "Requirement already satisfied: attrs>=19.2.0 in c:\\python\\lib\\site-packages (from pytest) (21.2.0)\n",
      "Requirement already satisfied: tomli>=1.0.0 in c:\\python\\lib\\site-packages (from pytest) (2.0.1)\n",
      "Requirement already satisfied: pluggy<2.0,>=0.12 in c:\\python\\lib\\site-packages (from pytest) (1.0.0)\n",
      "Requirement already satisfied: pyparsing!=3.0.5,>=2.0.2 in c:\\python\\lib\\site-packages (from packaging->pytest) (2.4.7)\n"
     ]
    }
   ],
   "source": [
    "# !pip install --upgrade pandas\n",
    "\n",
    "!pip install talos\n",
    "!pip install statsmodels -U\n",
    "!pip install --upgrade pytest"
   ]
  },
  {
   "cell_type": "code",
   "execution_count": 7,
   "metadata": {
    "id": "HSTFCp3TLOyY"
   },
   "outputs": [],
   "source": [
    "# !ls \"drive/My Drive/Colab Notebooks/data\""
   ]
  },
  {
   "cell_type": "markdown",
   "metadata": {
    "id": "L4ox1E4A-NIx"
   },
   "source": [
    "# Imports, loads , Train/test split "
   ]
  },
  {
   "cell_type": "code",
   "execution_count": 8,
   "metadata": {},
   "outputs": [
    {
     "name": "stdout",
     "output_type": "stream",
     "text": [
      "Requirement already satisfied: scikit-learn in c:\\python\\lib\\site-packages (1.0.2)\n",
      "Requirement already satisfied: scipy in c:\\python\\lib\\site-packages (1.8.0)\n",
      "Requirement already satisfied: statsmodels in c:\\python\\lib\\site-packages (0.13.2)\n",
      "Requirement already satisfied: joblib>=0.11 in c:\\python\\lib\\site-packages (from scikit-learn) (1.1.0)\n",
      "Requirement already satisfied: numpy>=1.14.6 in c:\\python\\lib\\site-packages (from scikit-learn) (1.21.2)\n",
      "Requirement already satisfied: threadpoolctl>=2.0.0 in c:\\python\\lib\\site-packages (from scikit-learn) (3.1.0)\n",
      "Requirement already satisfied: patsy>=0.5.2 in c:\\python\\lib\\site-packages (from statsmodels) (0.5.2)\n",
      "Requirement already satisfied: pandas>=0.25 in c:\\python\\lib\\site-packages (from statsmodels) (1.4.0)\n",
      "Requirement already satisfied: packaging>=21.3 in c:\\python\\lib\\site-packages (from statsmodels) (21.3)\n",
      "Requirement already satisfied: pyparsing!=3.0.5,>=2.0.2 in c:\\python\\lib\\site-packages (from packaging>=21.3->statsmodels) (2.4.7)\n",
      "Requirement already satisfied: python-dateutil>=2.8.1 in c:\\python\\lib\\site-packages (from pandas>=0.25->statsmodels) (2.8.2)\n",
      "Requirement already satisfied: pytz>=2020.1 in c:\\python\\lib\\site-packages (from pandas>=0.25->statsmodels) (2021.1)\n",
      "Requirement already satisfied: six in c:\\python\\lib\\site-packages (from patsy>=0.5.2->statsmodels) (1.16.0)\n"
     ]
    }
   ],
   "source": [
    "!pip install -U scikit-learn scipy statsmodels"
   ]
  },
  {
   "cell_type": "code",
   "execution_count": 9,
   "metadata": {},
   "outputs": [
    {
     "name": "stdout",
     "output_type": "stream",
     "text": [
      "Requirement already satisfied: gensim in c:\\python\\lib\\site-packages (3.0.0)\n",
      "Requirement already satisfied: smart-open>=1.2.1 in c:\\python\\lib\\site-packages (from gensim) (5.2.1)\n",
      "Requirement already satisfied: six>=1.5.0 in c:\\python\\lib\\site-packages (from gensim) (1.16.0)\n",
      "Requirement already satisfied: numpy>=1.11.3 in c:\\python\\lib\\site-packages (from gensim) (1.21.2)\n",
      "Requirement already satisfied: scipy>=0.18.1 in c:\\python\\lib\\site-packages (from gensim) (1.8.0)\n"
     ]
    }
   ],
   "source": [
    "!pip install gensim"
   ]
  },
  {
   "cell_type": "code",
   "execution_count": 10,
   "metadata": {
    "id": "Pxs1baLTJsxl"
   },
   "outputs": [],
   "source": [
    "\n",
    "#importing required libraries\n",
    "import pandas as pd\n",
    "import numpy as np\n",
    "#Progress bars\n",
    "from tqdm import tqdm\n",
    "tqdm.pandas()\n",
    "\n",
    "#Paralelize pandas apply on multiple cores\n",
    "#import swifter\n",
    "\n",
    "from matplotlib import pyplot as plt\n",
    "from matplotlib import style\n",
    "#Nicer style\n",
    "style.use('seaborn')\n",
    "import seaborn as sns\n",
    "\n",
    "from tensorflow import keras as k\n",
    "\n",
    "from sklearn.model_selection import train_test_split\n",
    "\n",
    "from gensim.models.keyedvectors import KeyedVectors\n",
    "\n",
    "from sklearn.metrics import accuracy_score, confusion_matrix, classification_report"
   ]
  },
  {
   "cell_type": "code",
   "execution_count": 11,
   "metadata": {
    "id": "E-i6JPxjKGaz"
   },
   "outputs": [],
   "source": [
    "#Reading pickle file\n",
    "import pickle\n",
    "data = pd.read_pickle('news_proc_12_3_19.pickle')#.reset_index()\n",
    "data = data.dropna()"
   ]
  },
  {
   "cell_type": "markdown",
   "metadata": {
    "id": "ytOekwMDE9Pi"
   },
   "source": [
    "Labels assigned to types "
   ]
  },
  {
   "cell_type": "code",
   "execution_count": 12,
   "metadata": {
    "colab": {
     "base_uri": "https://localhost:8080/"
    },
    "id": "oxDrPOrlCONc",
    "outputId": "09e786fd-5aee-4eb7-a5d3-44598ac09402"
   },
   "outputs": [
    {
     "name": "stdout",
     "output_type": "stream",
     "text": [
      "fake - [0]\n",
      "truth - [1]\n"
     ]
    }
   ],
   "source": [
    "#displaying the classes present in the dataset\n",
    "types = data['type'].unique()\n",
    "for t in types:\n",
    "    print(\"{} - {}\".format(t, data[data['type'] == t].head(1)['one_hot_label'].iloc[0]))"
   ]
  },
  {
   "cell_type": "code",
   "execution_count": 13,
   "metadata": {
    "colab": {
     "base_uri": "https://localhost:8080/"
    },
    "id": "p2Rb1d_iMRo4",
    "outputId": "69b7b018-4289-4299-aa9a-6e5a366b23cf"
   },
   "outputs": [
    {
     "name": "stdout",
     "output_type": "stream",
     "text": [
      "Max len content: 1827\n",
      "Max len title: 15\n"
     ]
    }
   ],
   "source": [
    "#Displaying the len of title\n",
    "len_content = len(data['content'][0])\n",
    "len_title = len(data['title'][0])\n",
    "\n",
    "print(\"Max len content: {}\".format(len_content))\n",
    "print(\"Max len title: {}\".format(len_title))"
   ]
  },
  {
   "cell_type": "code",
   "execution_count": 14,
   "metadata": {
    "colab": {
     "base_uri": "https://localhost:8080/"
    },
    "id": "4CFKIK9NItqZ",
    "outputId": "94af0148-5050-4480-f568-3e197749109f"
   },
   "outputs": [
    {
     "data": {
      "text/plain": [
       "'!unzip gdrive/My\\\\ Drive/GoogleNews-vectors-negative300.zip'"
      ]
     },
     "execution_count": 14,
     "metadata": {},
     "output_type": "execute_result"
    }
   ],
   "source": [
    "'''!unzip gdrive/My\\ Drive/GoogleNews-vectors-negative300.zip'''"
   ]
  },
  {
   "cell_type": "code",
   "execution_count": 15,
   "metadata": {
    "id": "obS9w_bsMeCf"
   },
   "outputs": [],
   "source": [
    "#Loading googlenews_vectors model\n",
    "model = KeyedVectors.load_word2vec_format(\"GoogleNews-vectors-negative300.bin\", binary=True, limit=50000)"
   ]
  },
  {
   "cell_type": "markdown",
   "metadata": {
    "id": "Wbfhe0Txddio"
   },
   "source": [
    "**Tran/valid/test split**"
   ]
  },
  {
   "cell_type": "code",
   "execution_count": 18,
   "metadata": {
    "id": "cq-wi-x6ddtd"
   },
   "outputs": [],
   "source": [
    "#Train - test\n",
    "X_train, X_test, y_train, y_test = train_test_split(\n",
    "    data[['content', 'title']], data['one_hot_label'], test_size=0.3, random_state=1)\n",
    "\n",
    "#Train - valid\n",
    "X_train, X_valid, y_train, y_valid = train_test_split(\n",
    "    X_train, y_train, test_size=0.3, random_state=1)"
   ]
  },
  {
   "cell_type": "code",
   "execution_count": 19,
   "metadata": {
    "id": "WxjsZziCddwE"
   },
   "outputs": [],
   "source": [
    "\n",
    "X_train_title = X_train['title']\n",
    "X_train_content = X_train['content']\n",
    "\n",
    "X_valid_title = X_valid['title']\n",
    "X_valid_content = X_valid['content']\n",
    "\n",
    "X_test_title = X_test['title']\n",
    "X_test_content = X_test['content']"
   ]
  },
  {
   "cell_type": "code",
   "execution_count": 20,
   "metadata": {
    "id": "kOmvVOCofAl2"
   },
   "outputs": [],
   "source": [
    "#values to be fitted for train\n",
    "train_fit = [np.asarray(X_train_title.tolist()), \n",
    "             np.asarray(X_train_content.tolist())]\n",
    "\n"
   ]
  },
  {
   "cell_type": "code",
   "execution_count": 21,
   "metadata": {
    "id": "6igk5YRRcbcS"
   },
   "outputs": [],
   "source": [
    "#Values to be fiited and validates during validation\n",
    "valid_fit = [np.asarray(X_valid_title.tolist()), \n",
    "             np.asarray(X_valid_content.tolist())]\n"
   ]
  },
  {
   "cell_type": "code",
   "execution_count": 22,
   "metadata": {
    "id": "6QvQEY98ceME"
   },
   "outputs": [],
   "source": [
    "#Values to be fitted to testing\n",
    "test_fit = [np.asarray(X_test_title.tolist()), \n",
    "             np.asarray(X_test_content.tolist())]"
   ]
  },
  {
   "cell_type": "code",
   "execution_count": 23,
   "metadata": {
    "id": "xKsXmH1t3IkD"
   },
   "outputs": [],
   "source": [
    "#Setting parameters for CNN\n",
    "params_cnn = {\n",
    "    'lr': 0.4,\n",
    "    'momentum': 0.3,\n",
    "    'dropout1': 0.2,\n",
    "    'dropout2': 0.4,\n",
    "    'filters1Title': 5,\n",
    "    'denseTitle': 25,\n",
    "    'filtersContent': 5,\n",
    "    'denseContent': 28\n",
    "}"
   ]
  },
  {
   "cell_type": "code",
   "execution_count": 24,
   "metadata": {
    "id": "vZEvZo6hLFG2"
   },
   "outputs": [],
   "source": [
    "#Some imports...\n",
    "import tensorflow as tf\n",
    "import os\n",
    "\n",
    "from numpy.random import seed\n",
    "# from tensorflow import set_random_seed"
   ]
  },
  {
   "cell_type": "markdown",
   "metadata": {
    "id": "M1RK9vtpBVGd"
   },
   "source": [
    "# Convolutional networks"
   ]
  },
  {
   "cell_type": "code",
   "execution_count": 25,
   "metadata": {
    "id": "hn15giBn6pSY"
   },
   "outputs": [],
   "source": [
    "\n",
    "#     set_random_seed(50)\n",
    "tf.random.set_seed(50)\n",
    "k.backend.clear_session()"
   ]
  },
  {
   "cell_type": "code",
   "execution_count": 26,
   "metadata": {
    "colab": {
     "base_uri": "https://localhost:8080/"
    },
    "id": "bRjPd9pEBaxg",
    "outputId": "2a45696f-763d-4808-cfdf-d40650c834ce"
   },
   "outputs": [
    {
     "name": "stdout",
     "output_type": "stream",
     "text": [
      "Model: \"model\"\n",
      "__________________________________________________________________________________________________\n",
      " Layer (type)                   Output Shape         Param #     Connected to                     \n",
      "==================================================================================================\n",
      " title_input (InputLayer)       [(None, 15)]         0           []                               \n",
      "                                                                                                  \n",
      " content_input (InputLayer)     [(None, 1827)]       0           []                               \n",
      "                                                                                                  \n",
      " embed_title (Embedding)        (None, 15, 300)      15000000    ['title_input[0][0]']            \n",
      "                                                                                                  \n",
      " embed_content (Embedding)      (None, 1827, 300)    15000000    ['content_input[0][0]']          \n",
      "                                                                                                  \n",
      " Conv1Title (Conv1D)            (None, 6, 5)         6005        ['embed_title[0][0]']            \n",
      "                                                                                                  \n",
      " Conv2Content (Conv1D)          (None, 453, 80)      384080      ['embed_content[0][0]']          \n",
      "                                                                                                  \n",
      " Pool1Title (MaxPooling1D)      (None, 3, 5)         0           ['Conv1Title[0][0]']             \n",
      "                                                                                                  \n",
      " Pool2Content (MaxPooling1D)    (None, 113, 80)      0           ['Conv2Content[0][0]']           \n",
      "                                                                                                  \n",
      " flatten (Flatten)              (None, 15)           0           ['Pool1Title[0][0]']             \n",
      "                                                                                                  \n",
      " flatten_1 (Flatten)            (None, 9040)         0           ['Pool2Content[0][0]']           \n",
      "                                                                                                  \n",
      " Dense1Title (Dense)            (None, 50)           800         ['flatten[0][0]']                \n",
      "                                                                                                  \n",
      " Dense1Content (Dense)          (None, 100)          904100      ['flatten_1[0][0]']              \n",
      "                                                                                                  \n",
      " concatenate (Concatenate)      (None, 150)          0           ['Dense1Title[0][0]',            \n",
      "                                                                  'Dense1Content[0][0]']          \n",
      "                                                                                                  \n",
      " dense (Dense)                  (None, 50)           7550        ['concatenate[0][0]']            \n",
      "                                                                                                  \n",
      " dropout (Dropout)              (None, 50)           0           ['dense[0][0]']                  \n",
      "                                                                                                  \n",
      " dense_1 (Dense)                (None, 50)           2550        ['dropout[0][0]']                \n",
      "                                                                                                  \n",
      " dropout_1 (Dropout)            (None, 50)           0           ['dense_1[0][0]']                \n",
      "                                                                                                  \n",
      " dense_2 (Dense)                (None, 1)            51          ['dropout_1[0][0]']              \n",
      "                                                                                                  \n",
      "==================================================================================================\n",
      "Total params: 31,305,136\n",
      "Trainable params: 1,305,136\n",
      "Non-trainable params: 30,000,000\n",
      "__________________________________________________________________________________________________\n"
     ]
    }
   ],
   "source": [
    "#input_title\n",
    "title_input = k.layers.Input(shape=(len_title,), name='title_input')\n",
    "inp = k.layers.Embedding(output_dim=300, input_dim=50000, \n",
    "                         weights=[embed_mat], trainable=False, name='embed_title')(title_input)\n",
    "\n",
    "x = k.layers.Conv1D(filters = 5, kernel_size=4, strides=2, activation='relu', name='Conv1Title')(inp)\n",
    "x = k.layers.MaxPool1D(pool_size = 2, name='Pool1Title')(x)\n",
    "x = k.layers.Flatten()(x)\n",
    "x = k.layers.Dense(50, activation='relu', name='Dense1Title', kernel_regularizer='l2')(x)\n",
    "\n",
    "#input_content\n",
    "content_input = k.layers.Input(shape=(len_content,), name='content_input')\n",
    "inp2 = k.layers.Embedding(output_dim=300, input_dim=50000, \n",
    "                         weights=[embed_mat], trainable=False, name='embed_content')(content_input)\n",
    "x2 = k.layers.Conv1D(filters = 40, kernel_size = 16, strides = 2, activation='relu', name='Conv1Content')(inp2)\n",
    "x2 = k.layers.MaxPool1D(pool_size = 4, name='Pool1Content')(x2)\n",
    "\n",
    "#Added\n",
    "x2 = k.layers.Conv1D(filters = 80, kernel_size = 16, strides = 4, activation='relu', name='Conv2Content')(inp2)\n",
    "x2 = k.layers.MaxPool1D(pool_size = 4, name='Pool2Content')(x2)\n",
    "#\n",
    "\n",
    "x2 = k.layers.Flatten()(x2)\n",
    "x2 = k.layers.Dense(100, activation='relu', kernel_regularizer='l2', name='Dense1Content')(x2)\n",
    "\n",
    "\n",
    "#Merge\n",
    "x = k.layers.concatenate([x, x2])\n",
    "\n",
    "#Common part\n",
    "x = k.layers.Dense(50, activation='relu')(x)\n",
    "x = k.layers.Dropout(0.2)(x)\n",
    "x = k.layers.Dense(50, activation='relu')(x)\n",
    "x = k.layers.Dropout(0.2)(x)\n",
    "out = k.layers.Dense(1, activation='softmax')(x)\n",
    "\n",
    "\n",
    "#Build model\n",
    "model = k.models.Model(inputs=[title_input, content_input], outputs=[out])\n",
    "\n",
    "#model.compile(k.optimizers.Adam(lr=0.0001), loss='binary_crossentropy', metrics=['acc'])\n",
    "#model.compile(k.optimizers.SGD(lr=0.1, momentum = 0.1), loss='categorical_crossentropy', metrics=['acc'])\n",
    "model.compile(k.optimizers.RMSprop(), loss='binary_crossentropy', metrics=['acc'])\n",
    "\n",
    "model.summary()"
   ]
  },
  {
   "cell_type": "code",
   "execution_count": 27,
   "metadata": {
    "colab": {
     "base_uri": "https://localhost:8080/",
     "height": 234
    },
    "id": "gOhBW9oiCDiU",
    "outputId": "1da33717-3fe9-4dd8-b6ed-bc0f875e9a0b"
   },
   "outputs": [
    {
     "name": "stdout",
     "output_type": "stream",
     "text": [
      "Epoch 1/20\n",
      "368/368 [==============================] - 382s 1s/step - loss: 0.7597 - acc: 0.4785 - val_loss: 0.6947 - val_acc: 0.4820\n",
      "Epoch 2/20\n",
      "368/368 [==============================] - 365s 992ms/step - loss: 0.6945 - acc: 0.4785 - val_loss: 0.6947 - val_acc: 0.4820\n",
      "Epoch 3/20\n",
      "368/368 [==============================] - 356s 969ms/step - loss: 0.6945 - acc: 0.4785 - val_loss: 0.6947 - val_acc: 0.4820\n"
     ]
    }
   ],
   "source": [
    "#Fitting the model\n",
    "hist = model.fit(x=train_fit, y=np.asarray(y_train.tolist()), batch_size=128, epochs=20,\n",
    "          callbacks = [k.callbacks.EarlyStopping(monitor='val_loss', patience=2, min_delta = 0.2)], validation_data=(valid_fit, np.array(y_valid.tolist())))"
   ]
  },
  {
   "cell_type": "code",
   "execution_count": 28,
   "metadata": {
    "colab": {
     "base_uri": "https://localhost:8080/",
     "height": 234
    },
    "id": "KAjg4jSCGWqU",
    "outputId": "b895fc32-20a9-4c1e-9071-2a80422319bf"
   },
   "outputs": [
    {
     "data": {
      "text/plain": [
       "<matplotlib.legend.Legend at 0x14ec16ff1f0>"
      ]
     },
     "execution_count": 28,
     "metadata": {},
     "output_type": "execute_result"
    },
    {
     "data": {
      "image/png": "[encoded data removed]",
      "text/plain": [
       "<Figure size 1152x432 with 1 Axes>"
      ]
     },
     "metadata": {},
     "output_type": "display_data"
    }
   ],
   "source": [
    "#Plotting a plot\n",
    "plt.figure(figsize=(16,6))\n",
    "plt.plot(hist.history['val_acc'], label='val_acc')\n",
    "plt.plot(hist.history['acc'], label='train_acc')\n",
    "plt.plot(hist.history['val_loss'], label='val_loss')\n",
    "plt.plot(hist.history['loss'], label='train_loss')\n",
    "plt.legend()"
   ]
  },
  {
   "cell_type": "code",
   "execution_count": 29,
   "metadata": {
    "id": "hTY9LsukoY0C"
   },
   "outputs": [
    {
     "data": {
      "text/plain": [
       "<matplotlib.legend.Legend at 0x14ec21846d0>"
      ]
     },
     "execution_count": 29,
     "metadata": {},
     "output_type": "execute_result"
    },
    {
     "data": {
      "image/png": "[encoded data removed]",
      "text/plain": [
       "<Figure size 1152x432 with 1 Axes>"
      ]
     },
     "metadata": {},
     "output_type": "display_data"
    }
   ],
   "source": [
    "plt.figure(figsize=(16,6))\n",
    "plt.plot(hist.history['val_loss'], label='val_loss')\n",
    "plt.plot(hist.history['loss'], label='train_loss')\n",
    "plt.legend()"
   ]
  },
  {
   "cell_type": "code",
   "execution_count": 30,
   "metadata": {},
   "outputs": [],
   "source": [
    "#predicting the test\n",
    "test_pred = model.predict(test_fit)"
   ]
  },
  {
   "cell_type": "code",
   "execution_count": 31,
   "metadata": {
    "id": "QrSoUtQnoyqT"
   },
   "outputs": [],
   "source": [
    "#Saving the model in h5 format\n",
    "CONV_PATH = 'conv.h5'\n",
    "model.save(CONV_PATH)"
   ]
  },
  {
   "cell_type": "code",
   "execution_count": 32,
   "metadata": {},
   "outputs": [],
   "source": [
    "\n",
    "def classify(txt, model):\n",
    "    #Class names for cifar 10\n",
    "    class_names = ['fake', 'truth']\n",
    "    preds = model.predict(txt)\n",
    "    final = pd.DataFrame({'name' : np.array(class_names),'probability' :preds[0]})\n",
    "    return final,class_names[classification]"
   ]
  },
  {
   "cell_type": "code",
   "execution_count": null,
   "metadata": {},
   "outputs": [
    {
     "name": "stdout",
     "output_type": "stream",
     "text": [
      " * Serving Flask app '__main__' (lazy loading)\n",
      " * Environment: production\n",
      "\u001b[31m   WARNING: This is a development server. Do not use it in a production deployment.\u001b[0m\n",
      "\u001b[2m   Use a production WSGI server instead.\u001b[0m\n",
      " * Debug mode: off\n"
     ]
    },
    {
     "name": "stderr",
     "output_type": "stream",
     "text": [
      " * Running on http://127.0.0.1:5000/ (Press CTRL+C to quit)\n",
      "[2022-05-07 19:16:44,331] ERROR in app: Exception on / [GET]\n",
      "Traceback (most recent call last):\n",
      "  File \"C:\\Python\\lib\\site-packages\\flask\\app.py\", line 2077, in wsgi_app\n",
      "    response = self.full_dispatch_request()\n",
      "  File \"C:\\Python\\lib\\site-packages\\flask\\app.py\", line 1525, in full_dispatch_request\n",
      "    rv = self.handle_user_exception(e)\n",
      "  File \"C:\\Python\\lib\\site-packages\\flask\\app.py\", line 1523, in full_dispatch_request\n",
      "    rv = self.dispatch_request()\n",
      "  File \"C:\\Python\\lib\\site-packages\\flask\\app.py\", line 1509, in dispatch_request\n",
      "    return self.ensure_sync(self.view_functions[rule.endpoint])(**req.view_args)\n",
      "  File \"C:\\Users\\abhis\\AppData\\Local\\Temp/ipykernel_10712/3835653223.py\", line 7, in entry_page\n",
      "    return render_template('index.html')\n",
      "  File \"C:\\Python\\lib\\site-packages\\flask\\templating.py\", line 149, in render_template\n",
      "    ctx.app.jinja_env.get_or_select_template(template_name_or_list),\n",
      "  File \"C:\\Python\\lib\\site-packages\\jinja2\\environment.py\", line 1068, in get_or_select_template\n",
      "    return self.get_template(template_name_or_list, parent, globals)\n",
      "  File \"C:\\Python\\lib\\site-packages\\jinja2\\environment.py\", line 997, in get_template\n",
      "    return self._load_template(name, globals)\n",
      "  File \"C:\\Python\\lib\\site-packages\\jinja2\\environment.py\", line 958, in _load_template\n",
      "    template = self.loader.load(self, name, self.make_globals(globals))\n",
      "  File \"C:\\Python\\lib\\site-packages\\jinja2\\loaders.py\", line 125, in load\n",
      "    source, filename, uptodate = self.get_source(environment, name)\n",
      "  File \"C:\\Python\\lib\\site-packages\\flask\\templating.py\", line 59, in get_source\n",
      "    return self._get_source_fast(environment, template)\n",
      "  File \"C:\\Python\\lib\\site-packages\\flask\\templating.py\", line 95, in _get_source_fast\n",
      "    raise TemplateNotFound(template)\n",
      "jinja2.exceptions.TemplateNotFound: index.html\n",
      "127.0.0.1 - - [07/May/2022 19:16:44] \"GET / HTTP/1.1\" 500 -\n",
      "[2022-05-07 19:20:29,318] ERROR in app: Exception on / [GET]\n",
      "Traceback (most recent call last):\n",
      "  File \"C:\\Python\\lib\\site-packages\\flask\\app.py\", line 2077, in wsgi_app\n",
      "    response = self.full_dispatch_request()\n",
      "  File \"C:\\Python\\lib\\site-packages\\flask\\app.py\", line 1525, in full_dispatch_request\n",
      "    rv = self.handle_user_exception(e)\n",
      "  File \"C:\\Python\\lib\\site-packages\\flask\\app.py\", line 1523, in full_dispatch_request\n",
      "    rv = self.dispatch_request()\n",
      "  File \"C:\\Python\\lib\\site-packages\\flask\\app.py\", line 1509, in dispatch_request\n",
      "    return self.ensure_sync(self.view_functions[rule.endpoint])(**req.view_args)\n",
      "  File \"C:\\Users\\abhis\\AppData\\Local\\Temp/ipykernel_10712/3835653223.py\", line 7, in entry_page\n",
      "    return render_template('index.html')\n",
      "  File \"C:\\Python\\lib\\site-packages\\flask\\templating.py\", line 149, in render_template\n",
      "    ctx.app.jinja_env.get_or_select_template(template_name_or_list),\n",
      "  File \"C:\\Python\\lib\\site-packages\\jinja2\\environment.py\", line 1068, in get_or_select_template\n",
      "    return self.get_template(template_name_or_list, parent, globals)\n",
      "  File \"C:\\Python\\lib\\site-packages\\jinja2\\environment.py\", line 997, in get_template\n",
      "    return self._load_template(name, globals)\n",
      "  File \"C:\\Python\\lib\\site-packages\\jinja2\\environment.py\", line 958, in _load_template\n",
      "    template = self.loader.load(self, name, self.make_globals(globals))\n",
      "  File \"C:\\Python\\lib\\site-packages\\jinja2\\loaders.py\", line 125, in load\n",
      "    source, filename, uptodate = self.get_source(environment, name)\n",
      "  File \"C:\\Python\\lib\\site-packages\\flask\\templating.py\", line 59, in get_source\n",
      "    return self._get_source_fast(environment, template)\n",
      "  File \"C:\\Python\\lib\\site-packages\\flask\\templating.py\", line 95, in _get_source_fast\n",
      "    raise TemplateNotFound(template)\n",
      "jinja2.exceptions.TemplateNotFound: index.html\n",
      "127.0.0.1 - - [07/May/2022 19:20:29] \"GET / HTTP/1.1\" 500 -\n"
     ]
    }
   ],
   "source": [
    "from flask import Flask,render_template,url_for,request\n",
    "app = Flask(__name__)\n",
    "\n",
    "@app.route('/')\n",
    "def entry_page():\n",
    "    # template of the webpage\n",
    "    return render_template('index.html')\n",
    "@app.route('/predict_object/', methods=['GET', 'POST'])\n",
    "def render_message():\n",
    "    #Loading CNN model\n",
    "    saved_model = 'conv.h5'\n",
    "    model = load_model(saved_model)\n",
    "    if request.method == 'POST':\n",
    "        txt = request.form['txt']\n",
    "        text = re.sub(r\"http\\S+\", \"\", text)\n",
    "        #Tokenize\n",
    "        tokenizer = RegexpTokenizer('\\w+|\\$[\\d\\.]+|\\S+')\n",
    "        tokens = tokenizer.tokenize(text)\n",
    "        #Remove non alphanumerica characters\n",
    "        text = [word for word in tokens if word.isalpha()]    \n",
    "        return text\n",
    "    \n",
    "    try:\n",
    "        \n",
    "        #Call classify function to predict the image class using the loaded CNN model\n",
    "        final,pred_class = classify(text, model)\n",
    "        print(pred_class)\n",
    "        print(final)\n",
    "        \n",
    "        #Store model prediction results to pass to the web page\n",
    "        message = \"Model prediction: {}\".format(pred_class)\n",
    "        print('Python module executed successfully')\n",
    "        \n",
    "    except Exception as e:\n",
    "        #Store error to pass to the web page\n",
    "        message = \"Error encountered. Try another image. ErrorClass: {}, Argument: {} and Traceback details are: {}\".format(e.__class__,e.args,e.__doc__)\n",
    "        final = pd.DataFrame({'A': ['Error'], 'B': [0]})\n",
    "        \n",
    "    #Return the model results to the web page\n",
    "    return render_template('index.html',\n",
    "                            message=message)\n",
    "#Debug is disabled for running in a jupyter notebook\n",
    "app.run(debug=False)"
   ]
  },
  {
   "cell_type": "code",
   "execution_count": null,
   "metadata": {},
   "outputs": [],
   "source": []
  },
  {
   "cell_type": "code",
   "execution_count": null,
   "metadata": {},
   "outputs": [],
   "source": []
  }
 ],
 "metadata": {
  "accelerator": "GPU",
  "colab": {
   "collapsed_sections": [
    "M1RK9vtpBVGd",
    "OMApMHOldZty"
   ],
   "machine_shape": "hm",
   "name": "Train-Categorical.ipynb",
   "provenance": []
  },
  "kernelspec": {
   "display_name": "Python 3 (ipykernel)",
   "language": "python",
   "name": "python3"
  },
  "language_info": {
   "codemirror_mode": {
    "name": "ipython",
    "version": 3
   },
   "file_extension": ".py",
   "mimetype": "text/x-python",
   "name": "python",
   "nbconvert_exporter": "python",
   "pygments_lexer": "ipython3",
   "version": "3.9.7"
  }
 },
 "nbformat": 4,
 "nbformat_minor": 1
}
